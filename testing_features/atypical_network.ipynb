{
 "cells": [
  {
   "cell_type": "markdown",
   "metadata": {},
   "source": [
    "#### imports"
   ]
  },
  {
   "cell_type": "code",
   "execution_count": 7,
   "metadata": {},
   "outputs": [],
   "source": [
    "import cv2\n",
    "import numpy as np\n",
    "import matplotlib.pyplot as plt\n",
    "import os"
   ]
  },
  {
   "cell_type": "markdown",
   "metadata": {},
   "source": [
    "#### functions"
   ]
  },
  {
   "cell_type": "code",
   "execution_count": 8,
   "metadata": {},
   "outputs": [],
   "source": [
    "def detect_atypical_network(image_path, mask_path):\n",
    "    '''detect atypical network'''\n",
    "    # load the lesion image\n",
    "    image = cv2.imread(image_path)\n",
    "    mask = cv2.imread(mask_path, 0)\n",
    "    # prepare the lesion image\n",
    "    cropped_image = cv2.bitwise_and(image, image, mask=mask) # crop the image using the mask\n",
    "    gray = cv2.cvtColor(cropped_image, cv2.COLOR_BGR2GRAY)\n",
    "    eq = cv2.equalizeHist(gray)\n",
    "    \n",
    "    edges = cv2.Canny(eq, 100, 200) # detect edges to find network\n",
    "    kernel = np.ones((3,3), np.uint8) # dilate edges to make the network more visible\n",
    "    network = cv2.dilate(edges, kernel, iterations=1)\n",
    "    \n",
    "    return network # return the network mask"
   ]
  },
  {
   "cell_type": "markdown",
   "metadata": {},
   "source": [
    "#### display images"
   ]
  },
  {
   "cell_type": "code",
   "execution_count": 9,
   "metadata": {},
   "outputs": [],
   "source": [
    "def test_images(image_path, mask_path, save_folder):\n",
    "    '''used to test images to visually assess  the correctness of our algorithm'''\n",
    "    image = cv2.imread(image_path)\n",
    "    network = detect_atypical_network(image_path, mask_path)\n",
    "    \n",
    "    # check if the save folder exists, if not, create it\n",
    "    if not os.path.exists(save_folder):\n",
    "        os.makedirs(save_folder)\n",
    "    \n",
    "    # plot the images\n",
    "    fig, axes = plt.subplots(1, 2, figsize=(12, 6))\n",
    "\n",
    "    axes[0].imshow(cv2.cvtColor(image, cv2.COLOR_BGR2RGB))\n",
    "    axes[0].set_title('Original Image')\n",
    "    axes[0].axis('off')\n",
    "\n",
    "    axes[1].imshow(network, cmap='gray')\n",
    "    axes[1].set_title('Atypical Network')\n",
    "    axes[1].axis('off')\n",
    "\n",
    "    \n",
    "    # save the figure to the designated save folder\n",
    "    save_path = os.path.join(save_folder, f\"result_{os.path.basename(image_path)}.png\")\n",
    "    plt.savefig(save_path)\n",
    "    plt.close()"
   ]
  },
  {
   "cell_type": "markdown",
   "metadata": {},
   "source": [
    "#### looping over images"
   ]
  },
  {
   "cell_type": "code",
   "execution_count": 10,
   "metadata": {},
   "outputs": [],
   "source": [
    "test_images('./testing_images/atypical_network/images/1.png', './testing_images/atypical_network/masks/1.png', './testing_images/atypical_network/results')"
   ]
  }
 ],
 "metadata": {
  "kernelspec": {
   "display_name": "Python 3",
   "language": "python",
   "name": "python3"
  },
  "language_info": {
   "codemirror_mode": {
    "name": "ipython",
    "version": 3
   },
   "file_extension": ".py",
   "mimetype": "text/x-python",
   "name": "python",
   "nbconvert_exporter": "python",
   "pygments_lexer": "ipython3",
   "version": "3.12.0"
  }
 },
 "nbformat": 4,
 "nbformat_minor": 2
}
