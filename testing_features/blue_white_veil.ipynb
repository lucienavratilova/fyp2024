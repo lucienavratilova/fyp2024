{
 "cells": [
  {
   "cell_type": "markdown",
   "metadata": {},
   "source": [
    "#### imports"
   ]
  },
  {
   "cell_type": "code",
   "execution_count": 1,
   "metadata": {},
   "outputs": [],
   "source": [
    "import cv2\n",
    "import numpy as np\n",
    "import matplotlib.pyplot as plt\n",
    "import os"
   ]
  },
  {
   "cell_type": "markdown",
   "metadata": {},
   "source": [
    "#### functions"
   ]
  },
  {
   "cell_type": "code",
   "execution_count": 2,
   "metadata": {},
   "outputs": [],
   "source": [
    "def load_image(image_path, mask_path):\n",
    "    \"\"\"load the image and its mask\"\"\"\n",
    "    image = cv2.imread(image_path)\n",
    "    mask = cv2.imread(mask_path, cv2.IMREAD_GRAYSCALE)\n",
    "    return image, mask\n",
    "\n",
    "def detect_blue_white(image, mask):\n",
    "    \"\"\"detect blue-white veil areas in the image using the mask\"\"\"\n",
    "\n",
    "    # crop the image using the mask so that we only work with the lesion\n",
    "    cropped_image = cv2.bitwise_and(image, image, mask=mask)\n",
    "    \n",
    "    # convert the cropped image to HSV \n",
    "    hsv = cv2.cvtColor(cropped_image, cv2.COLOR_BGR2HSV)\n",
    "    \n",
    "    # define bounds for color detection - HUE | SATURATION | VALUE (brightness)\n",
    "    lower_blue = np.array([90, 20, 80])\n",
    "    upper_blue = np.array([150, 150, 150])\n",
    "    \n",
    "    # creates a new mask where all pixels fall within the defined bounds\n",
    "    detected_mask = cv2.inRange(hsv, lower_blue, upper_blue)\n",
    "    \n",
    "    return detected_mask\n",
    "\n",
    "def coverage_ratio(detected_mask, mask):\n",
    "    veil_area = np.sum(detected_mask > 0) # total area of the blue-white veil\n",
    "    total_area = np.sum(mask > 0)\n",
    "    \n",
    "    coverage_ratio = round(veil_area / total_area, 4)\n",
    "    \n",
    "    return coverage_ratio\n",
    "\n",
    "\n",
    "def blue_white_veil(image_path, mask_path):\n",
    "    \"\"\"calculate the coverage ratio of blue-white veil areas\"\"\"\n",
    "    image, mask = load_image(image_path, mask_path)\n",
    "    detected_mask = detect_blue_white(image, mask)\n",
    "    result = coverage_ratio(detected_mask, mask)\n",
    "    \n",
    "    return result"
   ]
  },
  {
   "cell_type": "markdown",
   "metadata": {},
   "source": [
    "#### display images"
   ]
  },
  {
   "cell_type": "code",
   "execution_count": 3,
   "metadata": {},
   "outputs": [],
   "source": [
    "def test_images(image_path, mask_path, save_folder):\n",
    "    '''used to test images to visually assess  the correctness of our algorithm'''\n",
    "    image, mask = load_image(image_path, mask_path)\n",
    "    detected_mask = detect_blue_white(image, mask)\n",
    "    result = coverage_ratio(detected_mask, mask)\n",
    "    \n",
    "    # check if the save folder exists, if not, create it\n",
    "    if not os.path.exists(save_folder):\n",
    "        os.makedirs(save_folder)\n",
    "    \n",
    "    \"\"\"display the original, mask, and detected mask images with coverage ratio and saves them in given folder\"\"\"\n",
    "    plt.figure(figsize=(12, 4))\n",
    "    plt.subplot(1, 3, 1)\n",
    "    plt.imshow(cv2.cvtColor(image, cv2.COLOR_BGR2RGB))\n",
    "    plt.title('Original Image')\n",
    "    plt.axis('off')\n",
    "\n",
    "    plt.subplot(1, 3, 2)\n",
    "    plt.imshow(mask, cmap='gray')\n",
    "    plt.title('Manual Mask')\n",
    "    plt.axis('off')\n",
    "\n",
    "    plt.subplot(1, 3, 3)\n",
    "    plt.imshow(cv2.cvtColor(detected_mask, cv2.COLOR_GRAY2RGB))\n",
    "    plt.title(f'Detected Mask')\n",
    "    plt.axis('off')\n",
    "\n",
    "    plt.suptitle(f'Coverage Ratio: {result:.2%}')\n",
    "    \n",
    "    # save the figure to the designated save folder\n",
    "    save_path = os.path.join(save_folder, f\"result_{os.path.basename(image_path)}.png\")\n",
    "    plt.savefig(save_path)\n",
    "    plt.close()\n",
    "    \n",
    "    plt.show()\n",
    "    "
   ]
  }
 ],
 "metadata": {
  "kernelspec": {
   "display_name": "Python 3",
   "language": "python",
   "name": "python3"
  },
  "language_info": {
   "codemirror_mode": {
    "name": "ipython",
    "version": 3
   },
   "file_extension": ".py",
   "mimetype": "text/x-python",
   "name": "python",
   "nbconvert_exporter": "python",
   "pygments_lexer": "ipython3",
   "version": "3.12.0"
  }
 },
 "nbformat": 4,
 "nbformat_minor": 2
}
