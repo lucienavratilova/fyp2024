{
 "cells": [
  {
   "cell_type": "code",
   "execution_count": 67,
   "metadata": {},
   "outputs": [],
   "source": [
    "import pandas as pd\n",
    "import matplotlib.pyplot as plt"
   ]
  },
  {
   "cell_type": "code",
   "execution_count": 68,
   "metadata": {},
   "outputs": [
    {
     "data": {
      "text/html": [
       "<div>\n",
       "<style scoped>\n",
       "    .dataframe tbody tr th:only-of-type {\n",
       "        vertical-align: middle;\n",
       "    }\n",
       "\n",
       "    .dataframe tbody tr th {\n",
       "        vertical-align: top;\n",
       "    }\n",
       "\n",
       "    .dataframe thead th {\n",
       "        text-align: right;\n",
       "    }\n",
       "</style>\n",
       "<table border=\"1\" class=\"dataframe\">\n",
       "  <thead>\n",
       "    <tr style=\"text-align: right;\">\n",
       "      <th></th>\n",
       "      <th>patient_id</th>\n",
       "      <th>lesion_id</th>\n",
       "      <th>smoke</th>\n",
       "      <th>drink</th>\n",
       "      <th>background_father</th>\n",
       "      <th>background_mother</th>\n",
       "      <th>age</th>\n",
       "      <th>pesticide</th>\n",
       "      <th>gender</th>\n",
       "      <th>skin_cancer_history</th>\n",
       "      <th>...</th>\n",
       "      <th>diameter_2</th>\n",
       "      <th>diagnostic</th>\n",
       "      <th>itch</th>\n",
       "      <th>grew</th>\n",
       "      <th>hurt</th>\n",
       "      <th>changed</th>\n",
       "      <th>bleed</th>\n",
       "      <th>elevation</th>\n",
       "      <th>img_id</th>\n",
       "      <th>biopsed</th>\n",
       "    </tr>\n",
       "  </thead>\n",
       "  <tbody>\n",
       "    <tr>\n",
       "      <th>0</th>\n",
       "      <td>PAT_1516</td>\n",
       "      <td>1765</td>\n",
       "      <td>NaN</td>\n",
       "      <td>NaN</td>\n",
       "      <td>NaN</td>\n",
       "      <td>NaN</td>\n",
       "      <td>8</td>\n",
       "      <td>NaN</td>\n",
       "      <td>NaN</td>\n",
       "      <td>NaN</td>\n",
       "      <td>...</td>\n",
       "      <td>NaN</td>\n",
       "      <td>NEV</td>\n",
       "      <td>False</td>\n",
       "      <td>False</td>\n",
       "      <td>False</td>\n",
       "      <td>False</td>\n",
       "      <td>False</td>\n",
       "      <td>False</td>\n",
       "      <td>PAT_1516_1765_530.png</td>\n",
       "      <td>False</td>\n",
       "    </tr>\n",
       "    <tr>\n",
       "      <th>1</th>\n",
       "      <td>PAT_46</td>\n",
       "      <td>881</td>\n",
       "      <td>False</td>\n",
       "      <td>False</td>\n",
       "      <td>POMERANIA</td>\n",
       "      <td>POMERANIA</td>\n",
       "      <td>55</td>\n",
       "      <td>False</td>\n",
       "      <td>FEMALE</td>\n",
       "      <td>True</td>\n",
       "      <td>...</td>\n",
       "      <td>5.0</td>\n",
       "      <td>BCC</td>\n",
       "      <td>True</td>\n",
       "      <td>True</td>\n",
       "      <td>False</td>\n",
       "      <td>True</td>\n",
       "      <td>True</td>\n",
       "      <td>True</td>\n",
       "      <td>PAT_46_881_939.png</td>\n",
       "      <td>True</td>\n",
       "    </tr>\n",
       "    <tr>\n",
       "      <th>2</th>\n",
       "      <td>PAT_1545</td>\n",
       "      <td>1867</td>\n",
       "      <td>NaN</td>\n",
       "      <td>NaN</td>\n",
       "      <td>NaN</td>\n",
       "      <td>NaN</td>\n",
       "      <td>77</td>\n",
       "      <td>NaN</td>\n",
       "      <td>NaN</td>\n",
       "      <td>NaN</td>\n",
       "      <td>...</td>\n",
       "      <td>NaN</td>\n",
       "      <td>ACK</td>\n",
       "      <td>True</td>\n",
       "      <td>False</td>\n",
       "      <td>False</td>\n",
       "      <td>False</td>\n",
       "      <td>False</td>\n",
       "      <td>False</td>\n",
       "      <td>PAT_1545_1867_547.png</td>\n",
       "      <td>False</td>\n",
       "    </tr>\n",
       "    <tr>\n",
       "      <th>3</th>\n",
       "      <td>PAT_1989</td>\n",
       "      <td>4061</td>\n",
       "      <td>NaN</td>\n",
       "      <td>NaN</td>\n",
       "      <td>NaN</td>\n",
       "      <td>NaN</td>\n",
       "      <td>75</td>\n",
       "      <td>NaN</td>\n",
       "      <td>NaN</td>\n",
       "      <td>NaN</td>\n",
       "      <td>...</td>\n",
       "      <td>NaN</td>\n",
       "      <td>ACK</td>\n",
       "      <td>True</td>\n",
       "      <td>False</td>\n",
       "      <td>False</td>\n",
       "      <td>False</td>\n",
       "      <td>False</td>\n",
       "      <td>False</td>\n",
       "      <td>PAT_1989_4061_934.png</td>\n",
       "      <td>False</td>\n",
       "    </tr>\n",
       "    <tr>\n",
       "      <th>4</th>\n",
       "      <td>PAT_684</td>\n",
       "      <td>1302</td>\n",
       "      <td>False</td>\n",
       "      <td>True</td>\n",
       "      <td>POMERANIA</td>\n",
       "      <td>POMERANIA</td>\n",
       "      <td>79</td>\n",
       "      <td>False</td>\n",
       "      <td>MALE</td>\n",
       "      <td>True</td>\n",
       "      <td>...</td>\n",
       "      <td>5.0</td>\n",
       "      <td>BCC</td>\n",
       "      <td>True</td>\n",
       "      <td>True</td>\n",
       "      <td>False</td>\n",
       "      <td>False</td>\n",
       "      <td>True</td>\n",
       "      <td>True</td>\n",
       "      <td>PAT_684_1302_588.png</td>\n",
       "      <td>True</td>\n",
       "    </tr>\n",
       "  </tbody>\n",
       "</table>\n",
       "<p>5 rows × 26 columns</p>\n",
       "</div>"
      ],
      "text/plain": [
       "  patient_id  lesion_id  smoke  drink background_father background_mother  \\\n",
       "0   PAT_1516       1765    NaN    NaN               NaN               NaN   \n",
       "1     PAT_46        881  False  False         POMERANIA         POMERANIA   \n",
       "2   PAT_1545       1867    NaN    NaN               NaN               NaN   \n",
       "3   PAT_1989       4061    NaN    NaN               NaN               NaN   \n",
       "4    PAT_684       1302  False   True         POMERANIA         POMERANIA   \n",
       "\n",
       "   age pesticide  gender skin_cancer_history  ... diameter_2 diagnostic  \\\n",
       "0    8       NaN     NaN                 NaN  ...        NaN        NEV   \n",
       "1   55     False  FEMALE                True  ...        5.0        BCC   \n",
       "2   77       NaN     NaN                 NaN  ...        NaN        ACK   \n",
       "3   75       NaN     NaN                 NaN  ...        NaN        ACK   \n",
       "4   79     False    MALE                True  ...        5.0        BCC   \n",
       "\n",
       "    itch   grew   hurt  changed  bleed elevation                 img_id  \\\n",
       "0  False  False  False    False  False     False  PAT_1516_1765_530.png   \n",
       "1   True   True  False     True   True      True     PAT_46_881_939.png   \n",
       "2   True  False  False    False  False     False  PAT_1545_1867_547.png   \n",
       "3   True  False  False    False  False     False  PAT_1989_4061_934.png   \n",
       "4   True   True  False    False   True      True   PAT_684_1302_588.png   \n",
       "\n",
       "  biopsed  \n",
       "0   False  \n",
       "1    True  \n",
       "2   False  \n",
       "3   False  \n",
       "4    True  \n",
       "\n",
       "[5 rows x 26 columns]"
      ]
     },
     "execution_count": 68,
     "metadata": {},
     "output_type": "execute_result"
    }
   ],
   "source": [
    "data = pd.read_csv('../data/metadata.csv')\n",
    "data.head()\n"
   ]
  },
  {
   "cell_type": "code",
   "execution_count": 69,
   "metadata": {},
   "outputs": [
    {
     "name": "stdout",
     "output_type": "stream",
     "text": [
      "There are 2298 images of 1641 from 1373 patients.\n"
     ]
    }
   ],
   "source": [
    "image_count = len(data['img_id'])\n",
    "patient_count = len(data['patient_id'].value_counts())\n",
    "lesion_count = len(data['lesion_id'].value_counts())\n",
    "print(f'There are {image_count} images of {lesion_count} from {patient_count} patients.')"
   ]
  },
  {
   "cell_type": "code",
   "execution_count": 71,
   "metadata": {},
   "outputs": [
    {
     "name": "stdout",
     "output_type": "stream",
     "text": [
      "Index(['patient_id', 'lesion_id', 'smoke', 'drink', 'background_father',\n",
      "       'background_mother', 'age', 'pesticide', 'gender',\n",
      "       'skin_cancer_history', 'cancer_history', 'has_piped_water',\n",
      "       'has_sewage_system', 'fitspatrick', 'region', 'diameter_1',\n",
      "       'diameter_2', 'diagnostic', 'itch', 'grew', 'hurt', 'changed', 'bleed',\n",
      "       'elevation', 'img_id', 'biopsed'],\n",
      "      dtype='object')\n"
     ]
    }
   ],
   "source": [
    "print(data.columns)"
   ]
  },
  {
   "cell_type": "markdown",
   "metadata": {},
   "source": [
    "#### diagnosis distribution"
   ]
  },
  {
   "cell_type": "code",
   "execution_count": 101,
   "metadata": {},
   "outputs": [
    {
     "data": {
      "image/png": "[encoded data removed]",
      "text/plain": [
       "<Figure size 500x500 with 1 Axes>"
      ]
     },
     "metadata": {},
     "output_type": "display_data"
    },
    {
     "data": {
      "image/png": "[encoded data removed]",
      "text/plain": [
       "<Figure size 500x500 with 1 Axes>"
      ]
     },
     "metadata": {},
     "output_type": "display_data"
    }
   ],
   "source": [
    "colors1 = ['#f47068', '#ffb3ae', '#fff4f1', '#1697a6', '#0e606b', '#ffc24b']\n",
    "colors2 = ['#0e606b', '#ffc24b']\n",
    "\n",
    "# All diagnoses\n",
    "diagnoses = data['diagnostic'].value_counts()\n",
    "plt.figure(figsize=(5, 5))\n",
    "plt.pie(diagnoses, labels=diagnoses.index, autopct='%1.1f%%', colors=colors1, startangle=140)\n",
    "plt.title('Distribution of All Diagnoses')\n",
    "\n",
    "plt.show()\n",
    "\n",
    "# Grouped diagnoses\n",
    "def group_diagnoses(diagnosis):\n",
    "    if diagnosis in ['MEL', 'BCC', 'SCC']:\n",
    "        return 'Cancer'\n",
    "    elif diagnosis in ['NEV', 'ACK', 'SEK']:\n",
    "        return 'No Cancer'\n",
    "    else:\n",
    "        return 'Other'\n",
    "\n",
    "data['diagnosis_group'] = data['diagnostic'].apply(group_diagnoses)\n",
    "diagnosis_counts = data['diagnosis_group'].value_counts()\n",
    "\n",
    "plt.figure(figsize=(5, 5))\n",
    "plt.pie(diagnosis_counts, labels=diagnosis_counts.index, autopct='%1.1f%%', colors=colors2, startangle=140)\n",
    "plt.title('Grouped Diagnoses')\n",
    "\n",
    "plt.show()\n"
   ]
  },
  {
   "cell_type": "markdown",
   "metadata": {},
   "source": [
    "#### lookup diagnosis from filename"
   ]
  },
  {
   "cell_type": "code",
   "execution_count": 18,
   "metadata": {},
   "outputs": [
    {
     "name": "stdout",
     "output_type": "stream",
     "text": [
      "The diagnosis for PAT_85_129_225.png is: ACK\n"
     ]
    }
   ],
   "source": [
    "data.set_index('img_id', inplace=True)\n",
    "\n",
    "def get_diagnosis(filename):\n",
    "    try:\n",
    "        return data.loc[filename, 'diagnostic']\n",
    "    except KeyError:\n",
    "        return \"Filename not found in dataset.\"\n",
    "\n",
    "filename = 'PAT_85_129_225.png'\n",
    "diagnosis = get_diagnosis(filename)\n",
    "print(f\"The diagnosis for {filename} is: {diagnosis}\")"
   ]
  }
 ],
 "metadata": {
  "kernelspec": {
   "display_name": "Python 3",
   "language": "python",
   "name": "python3"
  },
  "language_info": {
   "codemirror_mode": {
    "name": "ipython",
    "version": 3
   },
   "file_extension": ".py",
   "mimetype": "text/x-python",
   "name": "python",
   "nbconvert_exporter": "python",
   "pygments_lexer": "ipython3",
   "version": "3.10.9"
  }
 },
 "nbformat": 4,
 "nbformat_minor": 2
}
