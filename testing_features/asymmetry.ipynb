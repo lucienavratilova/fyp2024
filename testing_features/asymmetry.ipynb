{
 "cells": [
  {
   "cell_type": "markdown",
   "metadata": {},
   "source": [
    "#### imports"
   ]
  },
  {
   "cell_type": "code",
   "execution_count": 113,
   "metadata": {},
   "outputs": [],
   "source": [
    "import cv2\n",
    "import numpy as np\n",
    "import matplotlib.pyplot as plt\n",
    "import os"
   ]
  },
  {
   "cell_type": "markdown",
   "metadata": {},
   "source": [
    "#### functions"
   ]
  },
  {
   "cell_type": "code",
   "execution_count": 114,
   "metadata": {},
   "outputs": [],
   "source": [
    "def load_image(path):\n",
    "    '''loads the mask image'''\n",
    "    image = cv2.imread(path, cv2.IMREAD_GRAYSCALE)\n",
    "    _, mask = cv2.threshold(image, 127, 255, cv2.THRESH_BINARY)\n",
    "    return mask\n",
    "\n",
    "def find_center(mask):\n",
    "    '''finds the center of the lesion'''\n",
    "    white_pixels = np.argwhere(mask > 0)\n",
    "    center_row = np.mean(white_pixels[:, 0]).astype(int)\n",
    "    center_col = np.mean(white_pixels[:, 1]).astype(int)\n",
    "    \n",
    "    return center_row, center_col\n",
    "\n",
    "def flip_image_centered(mask, axis):\n",
    "    '''flips the image along its center axis'''\n",
    "    center_row, center_col = find_center(mask)\n",
    "    \n",
    "    if axis == 'vertical':\n",
    "        image_shifted = np.roll(mask, -center_row, axis=0)\n",
    "        flipped_image = np.flipud(image_shifted)\n",
    "        return np.roll(flipped_image, center_row, axis=0)\n",
    "    elif axis == 'horizontal':\n",
    "        image_shifted = np.roll(mask, -center_col, axis=1)\n",
    "        flipped_image = np.fliplr(image_shifted)\n",
    "        return np.roll(flipped_image, center_col, axis=1)\n",
    "    \n",
    "def compute_overlap(image1, image2):\n",
    "    \"\"\"compute the overlap score\"\"\"\n",
    "    \n",
    "    intersection = np.logical_and(image1, image2)\n",
    "    union = np.logical_or(image1, image2)\n",
    "    overlap = np.sum(intersection) / np.sum(union)\n",
    "    \n",
    "    return overlap\n",
    "\n",
    "def symmetry_score(image):\n",
    "    \"\"\"compute the vertical and horizontal symmetry scores\"\"\"\n",
    "    mask = load_image(image) # load the image from path\n",
    "    \n",
    "\n",
    "    vert_flipped = flip_image_centered(mask, 'vertical')\n",
    "    horiz_flipped = flip_image_centered(mask, 'horizontal')\n",
    "    \n",
    "    vertical_symmetry_score = compute_overlap(mask, vert_flipped)\n",
    "    horizontal_symmetry_score = compute_overlap(mask, horiz_flipped)\n",
    "    total_score = round((vertical_symmetry_score + horizontal_symmetry_score) / 2, 4)\n",
    "\n",
    "    return total_score"
   ]
  },
  {
   "cell_type": "markdown",
   "metadata": {},
   "source": [
    "#### display images"
   ]
  },
  {
   "cell_type": "code",
   "execution_count": 115,
   "metadata": {},
   "outputs": [],
   "source": [
    "def test_images(path, save_folder):\n",
    "    '''plots the images to visualize our alogirhthm and save them to a folder'''\n",
    "    \n",
    "    mask = load_image(path) # load the image from path\n",
    "    fig, axs = plt.subplots(2, 3, figsize=(12, 8))\n",
    "    \n",
    "    center_row, center_col = find_center(mask)\n",
    "\n",
    "    vert_flipped = flip_image_centered(mask, 'vertical')\n",
    "    horiz_flipped = flip_image_centered(mask, 'horizontal')\n",
    "    \n",
    "    vertical_symmetry_score = compute_overlap(mask, vert_flipped)\n",
    "    horizontal_symmetry_score = compute_overlap(mask, horiz_flipped)\n",
    "    \n",
    "    total_score = round((vertical_symmetry_score + horizontal_symmetry_score) / 2, 4)\n",
    "\n",
    "    overlay_vert = cv2.addWeighted(mask, 0.5, vert_flipped, 0.5, 0)\n",
    "    overlay_horiz = cv2.addWeighted(mask, 0.5, horiz_flipped, 0.5, 0)\n",
    "    \n",
    "    # check if the save folder exists, if not, create it\n",
    "    if not os.path.exists(save_folder):\n",
    "        os.makedirs(save_folder)\n",
    "\n",
    "    images = [mask, vert_flipped, overlay_vert, mask, horiz_flipped, overlay_horiz]\n",
    "    titles = ['Original Image', 'Vertically Flipped', f'Overlay (Vertical) | score: {round(vertical_symmetry_score, 4)}',\n",
    "              'Original Image', 'Horizontally Flipped', f'Overlay (Horizontal) | score: {round(horizontal_symmetry_score, 4)}']\n",
    "\n",
    "    for i, ax in enumerate(axs.flat):\n",
    "        ax.imshow(images[i], cmap='gray')\n",
    "        ax.axhline(center_row, color='r', linestyle='--')\n",
    "        ax.axvline(center_col, color='r', linestyle='--')\n",
    "        ax.set_title(titles[i])\n",
    "        ax.axis('off')\n",
    "\n",
    "    plt.suptitle(f'Symmetry score: {total_score}')\n",
    "    \n",
    "    plt.tight_layout()\n",
    "\n",
    "    # save the figure to the designated save folder\n",
    "    save_path = os.path.join(save_folder, f\"result_{os.path.basename(path)}.png\")\n",
    "    plt.savefig(save_path)\n",
    "    plt.close()"
   ]
  },
  {
   "cell_type": "markdown",
   "metadata": {},
   "source": [
    "#### looping over images"
   ]
  },
  {
   "cell_type": "code",
   "execution_count": 116,
   "metadata": {},
   "outputs": [],
   "source": [
    "mask_paths = [\n",
    "    '../good_bad_images/MEL/good/masks/lucie/PAT_340_714_314_mask.png',\n",
    "    '../good_bad_images/MEL/good/masks/lucie/PAT_995_1867_165_mask.png',\n",
    "    '../good_bad_images/MEL/bad/masks/lucie/PAT_262_402_14_mask.png',\n",
    "    '../good_bad_images/NEV/good/masks/PAT_672_1272_705_mask.png',\n",
    "    '../good_bad_images/SCC/bad/masks/david/PAT_131_197_974_mask.png',\n",
    "    '../good_bad_images/SEK/good/masks/PAT_893_1697_613_mask.png',\n",
    "    '../good_bad_images/MEL/bad/masks/lucie/PAT_262_402_14_mask.png',\n",
    "    '../good_bad_images/MEL/bad/masks/lucie/PAT_719_1361_234_mask.png',\n",
    "    '../good_bad_images/MEL/bad/masks/lucie/PAT_719_1361_160_mask.png',\n",
    "    '../good_bad_images/MEL/bad/masks/lucie/PAT_719_1361_234_mask.png',\n",
    "    '../good_bad_images/MEL/good/masks/lucie/PAT_656_1246_489_mask.png',\n",
    "    '../good_bad_images/MEL/good/masks/lucie/PAT_614_1166_885_mask.png'\n",
    "]\n",
    "\n",
    "# Loop over the paths and test each image\n",
    "for msk_path in mask_paths:\n",
    "    test_images(msk_path, './testing_images/asymmetry')"
   ]
  }
 ],
 "metadata": {
  "kernelspec": {
   "display_name": "Python 3",
   "language": "python",
   "name": "python3"
  },
  "language_info": {
   "codemirror_mode": {
    "name": "ipython",
    "version": 3
   },
   "file_extension": ".py",
   "mimetype": "text/x-python",
   "name": "python",
   "nbconvert_exporter": "python",
   "pygments_lexer": "ipython3",
   "version": "3.12.0"
  }
 },
 "nbformat": 4,
 "nbformat_minor": 2
}
